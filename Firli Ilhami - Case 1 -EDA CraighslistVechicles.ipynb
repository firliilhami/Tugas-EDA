{
 "cells": [
  {
   "cell_type": "code",
   "execution_count": 1,
   "metadata": {},
   "outputs": [],
   "source": [
    "import numpy as np\n",
    "import pandas as pd\n",
    "import matplotlib.pyplot as plt\n",
    "import seaborn as sns"
   ]
  },
  {
   "cell_type": "code",
   "execution_count": 2,
   "metadata": {},
   "outputs": [],
   "source": [
    "df=pd.read_csv('craigslistVehiclesFull.csv')"
   ]
  },
  {
   "cell_type": "code",
   "execution_count": 123,
   "metadata": {},
   "outputs": [
    {
     "data": {
      "text/html": [
       "<div>\n",
       "<style scoped>\n",
       "    .dataframe tbody tr th:only-of-type {\n",
       "        vertical-align: middle;\n",
       "    }\n",
       "\n",
       "    .dataframe tbody tr th {\n",
       "        vertical-align: top;\n",
       "    }\n",
       "\n",
       "    .dataframe thead th {\n",
       "        text-align: right;\n",
       "    }\n",
       "</style>\n",
       "<table border=\"1\" class=\"dataframe\">\n",
       "  <thead>\n",
       "    <tr style=\"text-align: right;\">\n",
       "      <th></th>\n",
       "      <th>url</th>\n",
       "      <th>city</th>\n",
       "      <th>price</th>\n",
       "      <th>year</th>\n",
       "      <th>manufacturer</th>\n",
       "      <th>make</th>\n",
       "      <th>condition</th>\n",
       "      <th>cylinders</th>\n",
       "      <th>fuel</th>\n",
       "      <th>odometer</th>\n",
       "      <th>...</th>\n",
       "      <th>paint_color</th>\n",
       "      <th>image_url</th>\n",
       "      <th>lat</th>\n",
       "      <th>long</th>\n",
       "      <th>county_fips</th>\n",
       "      <th>county_name</th>\n",
       "      <th>state_fips</th>\n",
       "      <th>state_code</th>\n",
       "      <th>state_name</th>\n",
       "      <th>weather</th>\n",
       "    </tr>\n",
       "  </thead>\n",
       "  <tbody>\n",
       "    <tr>\n",
       "      <th>0</th>\n",
       "      <td>https://marshall.craigslist.org/cto/d/2010-dod...</td>\n",
       "      <td>marshall</td>\n",
       "      <td>11900</td>\n",
       "      <td>2010.0</td>\n",
       "      <td>dodge</td>\n",
       "      <td>challenger se</td>\n",
       "      <td>good</td>\n",
       "      <td>6 cylinders</td>\n",
       "      <td>gas</td>\n",
       "      <td>43600.0</td>\n",
       "      <td>...</td>\n",
       "      <td>red</td>\n",
       "      <td>https://images.craigslist.org/00i0i_2ggH1eKDNK...</td>\n",
       "      <td>43.477500</td>\n",
       "      <td>-96.704100</td>\n",
       "      <td>46083.0</td>\n",
       "      <td>Lincoln</td>\n",
       "      <td>46.0</td>\n",
       "      <td>SD</td>\n",
       "      <td>South Dakota</td>\n",
       "      <td>38.0</td>\n",
       "    </tr>\n",
       "    <tr>\n",
       "      <th>1</th>\n",
       "      <td>https://marshall.craigslist.org/cto/d/fleetwoo...</td>\n",
       "      <td>marshall</td>\n",
       "      <td>1515</td>\n",
       "      <td>1999.0</td>\n",
       "      <td>ford</td>\n",
       "      <td>fleetwood</td>\n",
       "      <td>excellent</td>\n",
       "      <td>6 cylinders</td>\n",
       "      <td>gas</td>\n",
       "      <td>107000.0</td>\n",
       "      <td>...</td>\n",
       "      <td>white</td>\n",
       "      <td>https://images.craigslist.org/00M0M_irjh7SjEcU...</td>\n",
       "      <td>44.761200</td>\n",
       "      <td>-96.690700</td>\n",
       "      <td>46039.0</td>\n",
       "      <td>Deuel</td>\n",
       "      <td>46.0</td>\n",
       "      <td>SD</td>\n",
       "      <td>South Dakota</td>\n",
       "      <td>38.0</td>\n",
       "    </tr>\n",
       "    <tr>\n",
       "      <th>2</th>\n",
       "      <td>https://marshall.craigslist.org/cto/d/2008-for...</td>\n",
       "      <td>marshall</td>\n",
       "      <td>17550</td>\n",
       "      <td>2008.0</td>\n",
       "      <td>ford</td>\n",
       "      <td>f-150</td>\n",
       "      <td>excellent</td>\n",
       "      <td>6 cylinders</td>\n",
       "      <td>gas</td>\n",
       "      <td>107000.0</td>\n",
       "      <td>...</td>\n",
       "      <td>white</td>\n",
       "      <td>https://images.craigslist.org/00s0s_eL2XFhEUcx...</td>\n",
       "      <td>44.141500</td>\n",
       "      <td>-103.205200</td>\n",
       "      <td>46093.0</td>\n",
       "      <td>Meade</td>\n",
       "      <td>46.0</td>\n",
       "      <td>SD</td>\n",
       "      <td>South Dakota</td>\n",
       "      <td>38.0</td>\n",
       "    </tr>\n",
       "    <tr>\n",
       "      <th>3</th>\n",
       "      <td>https://marshall.craigslist.org/cto/d/ford-tau...</td>\n",
       "      <td>marshall</td>\n",
       "      <td>2800</td>\n",
       "      <td>2004.0</td>\n",
       "      <td>ford</td>\n",
       "      <td>taurus</td>\n",
       "      <td>good</td>\n",
       "      <td>6 cylinders</td>\n",
       "      <td>gas</td>\n",
       "      <td>168591.0</td>\n",
       "      <td>...</td>\n",
       "      <td>grey</td>\n",
       "      <td>https://images.craigslist.org/00L0L_5HUR1nQjt8...</td>\n",
       "      <td>43.284500</td>\n",
       "      <td>-95.593000</td>\n",
       "      <td>19143.0</td>\n",
       "      <td>Osceola</td>\n",
       "      <td>19.0</td>\n",
       "      <td>IA</td>\n",
       "      <td>Iowa</td>\n",
       "      <td>47.0</td>\n",
       "    </tr>\n",
       "    <tr>\n",
       "      <th>4</th>\n",
       "      <td>https://marshall.craigslist.org/cto/d/2001-gra...</td>\n",
       "      <td>marshall</td>\n",
       "      <td>400</td>\n",
       "      <td>2001.0</td>\n",
       "      <td>ford</td>\n",
       "      <td>2001 Grand Prix</td>\n",
       "      <td>excellent</td>\n",
       "      <td>6 cylinders</td>\n",
       "      <td>gas</td>\n",
       "      <td>217000.0</td>\n",
       "      <td>...</td>\n",
       "      <td>white</td>\n",
       "      <td>https://images.craigslist.org/00n0n_bJJ1XnonSG...</td>\n",
       "      <td>43.026100</td>\n",
       "      <td>-94.406400</td>\n",
       "      <td>19109.0</td>\n",
       "      <td>Kossuth</td>\n",
       "      <td>19.0</td>\n",
       "      <td>IA</td>\n",
       "      <td>Iowa</td>\n",
       "      <td>47.0</td>\n",
       "    </tr>\n",
       "    <tr>\n",
       "      <th>5</th>\n",
       "      <td>https://marshall.craigslist.org/ctd/d/2007-gmc...</td>\n",
       "      <td>marshall</td>\n",
       "      <td>9900</td>\n",
       "      <td>2007.0</td>\n",
       "      <td>gmc</td>\n",
       "      <td>yukon</td>\n",
       "      <td>good</td>\n",
       "      <td>8 cylinders</td>\n",
       "      <td>gas</td>\n",
       "      <td>169000.0</td>\n",
       "      <td>...</td>\n",
       "      <td>white</td>\n",
       "      <td>https://images.craigslist.org/00T0T_hFLz9hAHi0...</td>\n",
       "      <td>43.328149</td>\n",
       "      <td>-96.774445</td>\n",
       "      <td>46083.0</td>\n",
       "      <td>Lincoln</td>\n",
       "      <td>46.0</td>\n",
       "      <td>SD</td>\n",
       "      <td>South Dakota</td>\n",
       "      <td>38.0</td>\n",
       "    </tr>\n",
       "    <tr>\n",
       "      <th>6</th>\n",
       "      <td>https://marshall.craigslist.org/cto/d/2015-jee...</td>\n",
       "      <td>marshall</td>\n",
       "      <td>12500</td>\n",
       "      <td>2015.0</td>\n",
       "      <td>jeep</td>\n",
       "      <td>patriot high altitude</td>\n",
       "      <td>like new</td>\n",
       "      <td>4 cylinders</td>\n",
       "      <td>gas</td>\n",
       "      <td>39500.0</td>\n",
       "      <td>...</td>\n",
       "      <td>grey</td>\n",
       "      <td>https://images.craigslist.org/00404_RsUm4vwrGV...</td>\n",
       "      <td>43.548600</td>\n",
       "      <td>-96.633200</td>\n",
       "      <td>46099.0</td>\n",
       "      <td>Minnehaha</td>\n",
       "      <td>46.0</td>\n",
       "      <td>SD</td>\n",
       "      <td>South Dakota</td>\n",
       "      <td>38.0</td>\n",
       "    </tr>\n",
       "    <tr>\n",
       "      <th>7</th>\n",
       "      <td>https://marshall.craigslist.org/ctd/d/2008-bmw...</td>\n",
       "      <td>marshall</td>\n",
       "      <td>3900</td>\n",
       "      <td>2008.0</td>\n",
       "      <td>bmw</td>\n",
       "      <td>3 series</td>\n",
       "      <td>excellent</td>\n",
       "      <td>6 cylinders</td>\n",
       "      <td>gas</td>\n",
       "      <td>0.0</td>\n",
       "      <td>...</td>\n",
       "      <td>white</td>\n",
       "      <td>https://images.craigslist.org/00202_8ciATrWst3...</td>\n",
       "      <td>41.622572</td>\n",
       "      <td>-87.632656</td>\n",
       "      <td>17031.0</td>\n",
       "      <td>Cook</td>\n",
       "      <td>17.0</td>\n",
       "      <td>IL</td>\n",
       "      <td>Illinois</td>\n",
       "      <td>48.0</td>\n",
       "    </tr>\n",
       "    <tr>\n",
       "      <th>8</th>\n",
       "      <td>https://soo.craigslist.ca/cto/d/ebike-red-zone...</td>\n",
       "      <td>soo</td>\n",
       "      <td>2700</td>\n",
       "      <td>2018.0</td>\n",
       "      <td>ford</td>\n",
       "      <td>Ebike</td>\n",
       "      <td>excellent</td>\n",
       "      <td>6 cylinders</td>\n",
       "      <td>electric</td>\n",
       "      <td>107000.0</td>\n",
       "      <td>...</td>\n",
       "      <td>red</td>\n",
       "      <td>https://images.craigslist.org/01111_7YfxuQ9Nxu...</td>\n",
       "      <td>46.509803</td>\n",
       "      <td>-84.257825</td>\n",
       "      <td>29021.0</td>\n",
       "      <td>Jefferson</td>\n",
       "      <td>6.0</td>\n",
       "      <td>CA</td>\n",
       "      <td>FAILED</td>\n",
       "      <td>53.0</td>\n",
       "    </tr>\n",
       "    <tr>\n",
       "      <th>9</th>\n",
       "      <td>https://soo.craigslist.ca/ctd/d/2003-ford-excu...</td>\n",
       "      <td>soo</td>\n",
       "      <td>12995</td>\n",
       "      <td>2003.0</td>\n",
       "      <td>ford</td>\n",
       "      <td>excursion</td>\n",
       "      <td>excellent</td>\n",
       "      <td>10 cylinders</td>\n",
       "      <td>gas</td>\n",
       "      <td>236000.0</td>\n",
       "      <td>...</td>\n",
       "      <td>blue</td>\n",
       "      <td>https://images.craigslist.org/00707_97tX51ryfc...</td>\n",
       "      <td>46.514191</td>\n",
       "      <td>-84.291307</td>\n",
       "      <td>29021.0</td>\n",
       "      <td>Jefferson</td>\n",
       "      <td>6.0</td>\n",
       "      <td>CA</td>\n",
       "      <td>FAILED</td>\n",
       "      <td>53.0</td>\n",
       "    </tr>\n",
       "    <tr>\n",
       "      <th>10</th>\n",
       "      <td>https://soo.craigslist.ca/cto/d/2006-chev-expr...</td>\n",
       "      <td>soo</td>\n",
       "      <td>4000</td>\n",
       "      <td>2006.0</td>\n",
       "      <td>chev</td>\n",
       "      <td>express 2500 van</td>\n",
       "      <td>good</td>\n",
       "      <td>6 cylinders</td>\n",
       "      <td>gas</td>\n",
       "      <td>138000.0</td>\n",
       "      <td>...</td>\n",
       "      <td>white</td>\n",
       "      <td>https://images.craigslist.org/00J0J_fovkGAUCQI...</td>\n",
       "      <td>46.497529</td>\n",
       "      <td>-84.467464</td>\n",
       "      <td>29021.0</td>\n",
       "      <td>Jefferson</td>\n",
       "      <td>6.0</td>\n",
       "      <td>CA</td>\n",
       "      <td>FAILED</td>\n",
       "      <td>53.0</td>\n",
       "    </tr>\n",
       "    <tr>\n",
       "      <th>11</th>\n",
       "      <td>https://soo.craigslist.ca/cto/d/2002-chev-crew...</td>\n",
       "      <td>soo</td>\n",
       "      <td>13000</td>\n",
       "      <td>2002.0</td>\n",
       "      <td>chevrolet</td>\n",
       "      <td>2500 hd</td>\n",
       "      <td>excellent</td>\n",
       "      <td>8 cylinders</td>\n",
       "      <td>diesel</td>\n",
       "      <td>350000.0</td>\n",
       "      <td>...</td>\n",
       "      <td>white</td>\n",
       "      <td>https://images.craigslist.org/00V0V_bN5BoWGnSS...</td>\n",
       "      <td>46.497529</td>\n",
       "      <td>-84.467464</td>\n",
       "      <td>29021.0</td>\n",
       "      <td>Jefferson</td>\n",
       "      <td>6.0</td>\n",
       "      <td>CA</td>\n",
       "      <td>FAILED</td>\n",
       "      <td>53.0</td>\n",
       "    </tr>\n",
       "    <tr>\n",
       "      <th>12</th>\n",
       "      <td>https://soo.craigslist.ca/cto/d/2016-hyundai-s...</td>\n",
       "      <td>soo</td>\n",
       "      <td>21695</td>\n",
       "      <td>2016.0</td>\n",
       "      <td>hyundai</td>\n",
       "      <td>sonata</td>\n",
       "      <td>like new</td>\n",
       "      <td>4 cylinders</td>\n",
       "      <td>gas</td>\n",
       "      <td>44814.0</td>\n",
       "      <td>...</td>\n",
       "      <td>white</td>\n",
       "      <td>https://images.craigslist.org/00z0z_fLBdcucFWW...</td>\n",
       "      <td>46.517791</td>\n",
       "      <td>-84.342291</td>\n",
       "      <td>29021.0</td>\n",
       "      <td>Jefferson</td>\n",
       "      <td>6.0</td>\n",
       "      <td>CA</td>\n",
       "      <td>FAILED</td>\n",
       "      <td>53.0</td>\n",
       "    </tr>\n",
       "    <tr>\n",
       "      <th>13</th>\n",
       "      <td>https://soo.craigslist.ca/cto/d/green-camaro/6...</td>\n",
       "      <td>soo</td>\n",
       "      <td>18000</td>\n",
       "      <td>2011.0</td>\n",
       "      <td>chevrolet</td>\n",
       "      <td>camaro</td>\n",
       "      <td>like new</td>\n",
       "      <td>6 cylinders</td>\n",
       "      <td>gas</td>\n",
       "      <td>107000.0</td>\n",
       "      <td>...</td>\n",
       "      <td>green</td>\n",
       "      <td>https://images.craigslist.org/00t0t_KU0Z6MO1H2...</td>\n",
       "      <td>46.796740</td>\n",
       "      <td>-84.278784</td>\n",
       "      <td>29021.0</td>\n",
       "      <td>Jefferson</td>\n",
       "      <td>6.0</td>\n",
       "      <td>CA</td>\n",
       "      <td>FAILED</td>\n",
       "      <td>53.0</td>\n",
       "    </tr>\n",
       "    <tr>\n",
       "      <th>14</th>\n",
       "      <td>https://soo.craigslist.ca/cto/d/2016-hyundai-s...</td>\n",
       "      <td>soo</td>\n",
       "      <td>29000</td>\n",
       "      <td>2016.0</td>\n",
       "      <td>hyundai</td>\n",
       "      <td>santa fe xl</td>\n",
       "      <td>excellent</td>\n",
       "      <td>6 cylinders</td>\n",
       "      <td>gas</td>\n",
       "      <td>31500.0</td>\n",
       "      <td>...</td>\n",
       "      <td>black</td>\n",
       "      <td>https://images.craigslist.org/00a0a_9U3pKMXoRa...</td>\n",
       "      <td>46.512332</td>\n",
       "      <td>-84.252914</td>\n",
       "      <td>29021.0</td>\n",
       "      <td>Jefferson</td>\n",
       "      <td>6.0</td>\n",
       "      <td>CA</td>\n",
       "      <td>FAILED</td>\n",
       "      <td>53.0</td>\n",
       "    </tr>\n",
       "  </tbody>\n",
       "</table>\n",
       "<p>15 rows × 24 columns</p>\n",
       "</div>"
      ],
      "text/plain": [
       "                                                  url      city  price  \\\n",
       "0   https://marshall.craigslist.org/cto/d/2010-dod...  marshall  11900   \n",
       "1   https://marshall.craigslist.org/cto/d/fleetwoo...  marshall   1515   \n",
       "2   https://marshall.craigslist.org/cto/d/2008-for...  marshall  17550   \n",
       "3   https://marshall.craigslist.org/cto/d/ford-tau...  marshall   2800   \n",
       "4   https://marshall.craigslist.org/cto/d/2001-gra...  marshall    400   \n",
       "5   https://marshall.craigslist.org/ctd/d/2007-gmc...  marshall   9900   \n",
       "6   https://marshall.craigslist.org/cto/d/2015-jee...  marshall  12500   \n",
       "7   https://marshall.craigslist.org/ctd/d/2008-bmw...  marshall   3900   \n",
       "8   https://soo.craigslist.ca/cto/d/ebike-red-zone...       soo   2700   \n",
       "9   https://soo.craigslist.ca/ctd/d/2003-ford-excu...       soo  12995   \n",
       "10  https://soo.craigslist.ca/cto/d/2006-chev-expr...       soo   4000   \n",
       "11  https://soo.craigslist.ca/cto/d/2002-chev-crew...       soo  13000   \n",
       "12  https://soo.craigslist.ca/cto/d/2016-hyundai-s...       soo  21695   \n",
       "13  https://soo.craigslist.ca/cto/d/green-camaro/6...       soo  18000   \n",
       "14  https://soo.craigslist.ca/cto/d/2016-hyundai-s...       soo  29000   \n",
       "\n",
       "      year manufacturer                   make  condition     cylinders  \\\n",
       "0   2010.0        dodge          challenger se       good   6 cylinders   \n",
       "1   1999.0         ford              fleetwood  excellent   6 cylinders   \n",
       "2   2008.0         ford                  f-150  excellent   6 cylinders   \n",
       "3   2004.0         ford                 taurus       good   6 cylinders   \n",
       "4   2001.0         ford        2001 Grand Prix  excellent   6 cylinders   \n",
       "5   2007.0          gmc                  yukon       good   8 cylinders   \n",
       "6   2015.0         jeep  patriot high altitude   like new   4 cylinders   \n",
       "7   2008.0          bmw               3 series  excellent   6 cylinders   \n",
       "8   2018.0         ford                  Ebike  excellent   6 cylinders   \n",
       "9   2003.0         ford              excursion  excellent  10 cylinders   \n",
       "10  2006.0         chev       express 2500 van       good   6 cylinders   \n",
       "11  2002.0    chevrolet                2500 hd  excellent   8 cylinders   \n",
       "12  2016.0      hyundai                 sonata   like new   4 cylinders   \n",
       "13  2011.0    chevrolet                 camaro   like new   6 cylinders   \n",
       "14  2016.0      hyundai            santa fe xl  excellent   6 cylinders   \n",
       "\n",
       "        fuel  odometer   ...   paint_color  \\\n",
       "0        gas   43600.0   ...           red   \n",
       "1        gas  107000.0   ...         white   \n",
       "2        gas  107000.0   ...         white   \n",
       "3        gas  168591.0   ...          grey   \n",
       "4        gas  217000.0   ...         white   \n",
       "5        gas  169000.0   ...         white   \n",
       "6        gas   39500.0   ...          grey   \n",
       "7        gas       0.0   ...         white   \n",
       "8   electric  107000.0   ...           red   \n",
       "9        gas  236000.0   ...          blue   \n",
       "10       gas  138000.0   ...         white   \n",
       "11    diesel  350000.0   ...         white   \n",
       "12       gas   44814.0   ...         white   \n",
       "13       gas  107000.0   ...         green   \n",
       "14       gas   31500.0   ...         black   \n",
       "\n",
       "                                            image_url        lat        long  \\\n",
       "0   https://images.craigslist.org/00i0i_2ggH1eKDNK...  43.477500  -96.704100   \n",
       "1   https://images.craigslist.org/00M0M_irjh7SjEcU...  44.761200  -96.690700   \n",
       "2   https://images.craigslist.org/00s0s_eL2XFhEUcx...  44.141500 -103.205200   \n",
       "3   https://images.craigslist.org/00L0L_5HUR1nQjt8...  43.284500  -95.593000   \n",
       "4   https://images.craigslist.org/00n0n_bJJ1XnonSG...  43.026100  -94.406400   \n",
       "5   https://images.craigslist.org/00T0T_hFLz9hAHi0...  43.328149  -96.774445   \n",
       "6   https://images.craigslist.org/00404_RsUm4vwrGV...  43.548600  -96.633200   \n",
       "7   https://images.craigslist.org/00202_8ciATrWst3...  41.622572  -87.632656   \n",
       "8   https://images.craigslist.org/01111_7YfxuQ9Nxu...  46.509803  -84.257825   \n",
       "9   https://images.craigslist.org/00707_97tX51ryfc...  46.514191  -84.291307   \n",
       "10  https://images.craigslist.org/00J0J_fovkGAUCQI...  46.497529  -84.467464   \n",
       "11  https://images.craigslist.org/00V0V_bN5BoWGnSS...  46.497529  -84.467464   \n",
       "12  https://images.craigslist.org/00z0z_fLBdcucFWW...  46.517791  -84.342291   \n",
       "13  https://images.craigslist.org/00t0t_KU0Z6MO1H2...  46.796740  -84.278784   \n",
       "14  https://images.craigslist.org/00a0a_9U3pKMXoRa...  46.512332  -84.252914   \n",
       "\n",
       "   county_fips county_name  state_fips  state_code    state_name weather  \n",
       "0      46083.0     Lincoln        46.0          SD  South Dakota    38.0  \n",
       "1      46039.0       Deuel        46.0          SD  South Dakota    38.0  \n",
       "2      46093.0       Meade        46.0          SD  South Dakota    38.0  \n",
       "3      19143.0     Osceola        19.0          IA          Iowa    47.0  \n",
       "4      19109.0     Kossuth        19.0          IA          Iowa    47.0  \n",
       "5      46083.0     Lincoln        46.0          SD  South Dakota    38.0  \n",
       "6      46099.0   Minnehaha        46.0          SD  South Dakota    38.0  \n",
       "7      17031.0        Cook        17.0          IL      Illinois    48.0  \n",
       "8      29021.0   Jefferson         6.0          CA        FAILED    53.0  \n",
       "9      29021.0   Jefferson         6.0          CA        FAILED    53.0  \n",
       "10     29021.0   Jefferson         6.0          CA        FAILED    53.0  \n",
       "11     29021.0   Jefferson         6.0          CA        FAILED    53.0  \n",
       "12     29021.0   Jefferson         6.0          CA        FAILED    53.0  \n",
       "13     29021.0   Jefferson         6.0          CA        FAILED    53.0  \n",
       "14     29021.0   Jefferson         6.0          CA        FAILED    53.0  \n",
       "\n",
       "[15 rows x 24 columns]"
      ]
     },
     "execution_count": 123,
     "metadata": {},
     "output_type": "execute_result"
    }
   ],
   "source": [
    "df.head()"
   ]
  },
  {
   "cell_type": "code",
   "execution_count": 4,
   "metadata": {
    "scrolled": true
   },
   "outputs": [
    {
     "name": "stdout",
     "output_type": "stream",
     "text": [
      "<class 'pandas.core.frame.DataFrame'>\n",
      "RangeIndex: 1723065 entries, 0 to 1723064\n",
      "Data columns (total 26 columns):\n",
      "url             object\n",
      "city            object\n",
      "price           int64\n",
      "year            float64\n",
      "manufacturer    object\n",
      "make            object\n",
      "condition       object\n",
      "cylinders       object\n",
      "fuel            object\n",
      "odometer        float64\n",
      "title_status    object\n",
      "transmission    object\n",
      "vin             object\n",
      "drive           object\n",
      "size            object\n",
      "type            object\n",
      "paint_color     object\n",
      "image_url       object\n",
      "lat             float64\n",
      "long            float64\n",
      "county_fips     float64\n",
      "county_name     object\n",
      "state_fips      float64\n",
      "state_code      object\n",
      "state_name      object\n",
      "weather         float64\n",
      "dtypes: float64(7), int64(1), object(18)\n",
      "memory usage: 341.8+ MB\n"
     ]
    }
   ],
   "source": [
    "df.info() "
   ]
  },
  {
   "cell_type": "code",
   "execution_count": 5,
   "metadata": {},
   "outputs": [
    {
     "data": {
      "text/plain": [
       "(1723065, 26)"
      ]
     },
     "execution_count": 5,
     "metadata": {},
     "output_type": "execute_result"
    }
   ],
   "source": [
    "df.shape"
   ]
  },
  {
   "cell_type": "code",
   "execution_count": 6,
   "metadata": {},
   "outputs": [
    {
     "data": {
      "text/html": [
       "<div>\n",
       "<style scoped>\n",
       "    .dataframe tbody tr th:only-of-type {\n",
       "        vertical-align: middle;\n",
       "    }\n",
       "\n",
       "    .dataframe tbody tr th {\n",
       "        vertical-align: top;\n",
       "    }\n",
       "\n",
       "    .dataframe thead th {\n",
       "        text-align: right;\n",
       "    }\n",
       "</style>\n",
       "<table border=\"1\" class=\"dataframe\">\n",
       "  <thead>\n",
       "    <tr style=\"text-align: right;\">\n",
       "      <th></th>\n",
       "      <th>price</th>\n",
       "      <th>year</th>\n",
       "      <th>odometer</th>\n",
       "      <th>lat</th>\n",
       "      <th>long</th>\n",
       "      <th>county_fips</th>\n",
       "      <th>state_fips</th>\n",
       "      <th>weather</th>\n",
       "    </tr>\n",
       "  </thead>\n",
       "  <tbody>\n",
       "    <tr>\n",
       "      <th>count</th>\n",
       "      <td>1.723065e+06</td>\n",
       "      <td>1.716750e+06</td>\n",
       "      <td>1.159011e+06</td>\n",
       "      <td>1.723065e+06</td>\n",
       "      <td>1.723065e+06</td>\n",
       "      <td>1.664232e+06</td>\n",
       "      <td>1.664232e+06</td>\n",
       "      <td>1.663637e+06</td>\n",
       "    </tr>\n",
       "    <tr>\n",
       "      <th>mean</th>\n",
       "      <td>1.075540e+05</td>\n",
       "      <td>2.004841e+03</td>\n",
       "      <td>1.136387e+05</td>\n",
       "      <td>3.878195e+01</td>\n",
       "      <td>-9.371198e+01</td>\n",
       "      <td>2.843053e+04</td>\n",
       "      <td>2.834410e+01</td>\n",
       "      <td>5.378706e+01</td>\n",
       "    </tr>\n",
       "    <tr>\n",
       "      <th>std</th>\n",
       "      <td>1.004439e+07</td>\n",
       "      <td>1.208772e+01</td>\n",
       "      <td>1.368603e+05</td>\n",
       "      <td>5.976412e+00</td>\n",
       "      <td>1.696519e+01</td>\n",
       "      <td>1.605423e+04</td>\n",
       "      <td>1.603224e+01</td>\n",
       "      <td>7.799381e+00</td>\n",
       "    </tr>\n",
       "    <tr>\n",
       "      <th>min</th>\n",
       "      <td>1.000000e+00</td>\n",
       "      <td>3.020000e+02</td>\n",
       "      <td>0.000000e+00</td>\n",
       "      <td>-8.481005e+01</td>\n",
       "      <td>-1.000000e+03</td>\n",
       "      <td>1.001000e+03</td>\n",
       "      <td>1.000000e+00</td>\n",
       "      <td>2.900000e+01</td>\n",
       "    </tr>\n",
       "    <tr>\n",
       "      <th>25%</th>\n",
       "      <td>3.295000e+03</td>\n",
       "      <td>2.002000e+03</td>\n",
       "      <td>5.800000e+04</td>\n",
       "      <td>3.491900e+01</td>\n",
       "      <td>-1.058010e+02</td>\n",
       "      <td>1.212300e+04</td>\n",
       "      <td>1.200000e+01</td>\n",
       "      <td>4.800000e+01</td>\n",
       "    </tr>\n",
       "    <tr>\n",
       "      <th>50%</th>\n",
       "      <td>7.000000e+03</td>\n",
       "      <td>2.007000e+03</td>\n",
       "      <td>1.070000e+05</td>\n",
       "      <td>3.940989e+01</td>\n",
       "      <td>-8.824070e+01</td>\n",
       "      <td>2.902100e+04</td>\n",
       "      <td>2.900000e+01</td>\n",
       "      <td>5.300000e+01</td>\n",
       "    </tr>\n",
       "    <tr>\n",
       "      <th>75%</th>\n",
       "      <td>1.499900e+04</td>\n",
       "      <td>2.012000e+03</td>\n",
       "      <td>1.520000e+05</td>\n",
       "      <td>4.255459e+01</td>\n",
       "      <td>-8.102650e+01</td>\n",
       "      <td>4.106700e+04</td>\n",
       "      <td>4.100000e+01</td>\n",
       "      <td>5.900000e+01</td>\n",
       "    </tr>\n",
       "    <tr>\n",
       "      <th>max</th>\n",
       "      <td>2.068627e+09</td>\n",
       "      <td>2.019000e+03</td>\n",
       "      <td>1.000000e+07</td>\n",
       "      <td>9.000000e+01</td>\n",
       "      <td>1.397061e+02</td>\n",
       "      <td>5.604500e+04</td>\n",
       "      <td>5.600000e+01</td>\n",
       "      <td>7.900000e+01</td>\n",
       "    </tr>\n",
       "  </tbody>\n",
       "</table>\n",
       "</div>"
      ],
      "text/plain": [
       "              price          year      odometer           lat          long  \\\n",
       "count  1.723065e+06  1.716750e+06  1.159011e+06  1.723065e+06  1.723065e+06   \n",
       "mean   1.075540e+05  2.004841e+03  1.136387e+05  3.878195e+01 -9.371198e+01   \n",
       "std    1.004439e+07  1.208772e+01  1.368603e+05  5.976412e+00  1.696519e+01   \n",
       "min    1.000000e+00  3.020000e+02  0.000000e+00 -8.481005e+01 -1.000000e+03   \n",
       "25%    3.295000e+03  2.002000e+03  5.800000e+04  3.491900e+01 -1.058010e+02   \n",
       "50%    7.000000e+03  2.007000e+03  1.070000e+05  3.940989e+01 -8.824070e+01   \n",
       "75%    1.499900e+04  2.012000e+03  1.520000e+05  4.255459e+01 -8.102650e+01   \n",
       "max    2.068627e+09  2.019000e+03  1.000000e+07  9.000000e+01  1.397061e+02   \n",
       "\n",
       "        county_fips    state_fips       weather  \n",
       "count  1.664232e+06  1.664232e+06  1.663637e+06  \n",
       "mean   2.843053e+04  2.834410e+01  5.378706e+01  \n",
       "std    1.605423e+04  1.603224e+01  7.799381e+00  \n",
       "min    1.001000e+03  1.000000e+00  2.900000e+01  \n",
       "25%    1.212300e+04  1.200000e+01  4.800000e+01  \n",
       "50%    2.902100e+04  2.900000e+01  5.300000e+01  \n",
       "75%    4.106700e+04  4.100000e+01  5.900000e+01  \n",
       "max    5.604500e+04  5.600000e+01  7.900000e+01  "
      ]
     },
     "execution_count": 6,
     "metadata": {},
     "output_type": "execute_result"
    }
   ],
   "source": [
    "df.describe()"
   ]
  },
  {
   "cell_type": "markdown",
   "metadata": {},
   "source": [
    "### menghitung persentase data yang hilang pada dataset"
   ]
  },
  {
   "cell_type": "code",
   "execution_count": 7,
   "metadata": {},
   "outputs": [
    {
     "data": {
      "text/plain": [
       "size            65.23\n",
       "vin             64.90\n",
       "type            40.80\n",
       "condition       40.67\n",
       "paint_color     40.37\n",
       "cylinders       40.12\n",
       "drive           38.41\n",
       "odometer        32.74\n",
       "manufacturer     7.92\n",
       "make             4.05\n",
       "weather          3.45\n",
       "county_fips      3.41\n",
       "county_name      3.41\n",
       "state_fips       3.41\n",
       "state_code       3.41\n",
       "fuel             0.60\n",
       "transmission     0.52\n",
       "year             0.37\n",
       "title_status     0.15\n",
       "image_url        0.00\n",
       "lat              0.00\n",
       "state_name       0.00\n",
       "long             0.00\n",
       "price            0.00\n",
       "city             0.00\n",
       "url              0.00\n",
       "dtype: float64"
      ]
     },
     "execution_count": 7,
     "metadata": {},
     "output_type": "execute_result"
    }
   ],
   "source": [
    "percentage = round(df.isnull().sum()/len(df)*100,2).sort_values(ascending = False)\n",
    "percentage"
   ]
  },
  {
   "cell_type": "code",
   "execution_count": 8,
   "metadata": {},
   "outputs": [],
   "source": [
    "#Mengelist kolom numeric pada tabel\n",
    "numerik= ['price','year','odometer','lat','long','county_fips','weather']"
   ]
  },
  {
   "cell_type": "markdown",
   "metadata": {},
   "source": [
    "Untuk data yang hilang dengan persentasenya kurang dari 60% akan diisi median jika kolom tersebut numerik dan diisi modus jika\n",
    "data tersebut kategorikal"
   ]
  },
  {
   "cell_type": "code",
   "execution_count": 9,
   "metadata": {},
   "outputs": [],
   "source": [
    "#input median dan modus \n",
    "for i in df.columns:\n",
    "    if i in numerik:\n",
    "        df[i]=df[i].fillna(df[i].median())\n",
    "    else:\n",
    "        df[i]=df[i].fillna(df[i].value_counts().index[0])\n"
   ]
  },
  {
   "cell_type": "markdown",
   "metadata": {},
   "source": [
    "Untuk data yang persentasenya lebih dari 60 % akan dihapus yaitu variabel vin dan size"
   ]
  },
  {
   "cell_type": "code",
   "execution_count": null,
   "metadata": {},
   "outputs": [],
   "source": [
    "df.drop(['size','vin'],axis=1,inplace=True)"
   ]
  },
  {
   "cell_type": "markdown",
   "metadata": {},
   "source": [
    "### menghitung persentase data yang hilang pada dataset"
   ]
  },
  {
   "cell_type": "code",
   "execution_count": 10,
   "metadata": {},
   "outputs": [
    {
     "data": {
      "text/plain": [
       "weather         0.0\n",
       "state_name      0.0\n",
       "city            0.0\n",
       "price           0.0\n",
       "year            0.0\n",
       "manufacturer    0.0\n",
       "make            0.0\n",
       "condition       0.0\n",
       "cylinders       0.0\n",
       "fuel            0.0\n",
       "odometer        0.0\n",
       "title_status    0.0\n",
       "transmission    0.0\n",
       "drive           0.0\n",
       "type            0.0\n",
       "paint_color     0.0\n",
       "image_url       0.0\n",
       "lat             0.0\n",
       "long            0.0\n",
       "county_fips     0.0\n",
       "county_name     0.0\n",
       "state_fips      0.0\n",
       "state_code      0.0\n",
       "url             0.0\n",
       "dtype: float64"
      ]
     },
     "execution_count": 10,
     "metadata": {},
     "output_type": "execute_result"
    }
   ],
   "source": [
    "percentage = round(df.isnull().sum()/len(df)*100,2).sort_values(ascending = False)\n",
    "percentage"
   ]
  },
  {
   "cell_type": "code",
   "execution_count": 12,
   "metadata": {},
   "outputs": [
    {
     "data": {
      "text/html": [
       "<div>\n",
       "<style scoped>\n",
       "    .dataframe tbody tr th:only-of-type {\n",
       "        vertical-align: middle;\n",
       "    }\n",
       "\n",
       "    .dataframe tbody tr th {\n",
       "        vertical-align: top;\n",
       "    }\n",
       "\n",
       "    .dataframe thead th {\n",
       "        text-align: right;\n",
       "    }\n",
       "</style>\n",
       "<table border=\"1\" class=\"dataframe\">\n",
       "  <thead>\n",
       "    <tr style=\"text-align: right;\">\n",
       "      <th></th>\n",
       "      <th>url</th>\n",
       "      <th>city</th>\n",
       "      <th>price</th>\n",
       "      <th>year</th>\n",
       "      <th>manufacturer</th>\n",
       "      <th>make</th>\n",
       "      <th>condition</th>\n",
       "      <th>cylinders</th>\n",
       "      <th>fuel</th>\n",
       "      <th>odometer</th>\n",
       "      <th>...</th>\n",
       "      <th>paint_color</th>\n",
       "      <th>image_url</th>\n",
       "      <th>lat</th>\n",
       "      <th>long</th>\n",
       "      <th>county_fips</th>\n",
       "      <th>county_name</th>\n",
       "      <th>state_fips</th>\n",
       "      <th>state_code</th>\n",
       "      <th>state_name</th>\n",
       "      <th>weather</th>\n",
       "    </tr>\n",
       "  </thead>\n",
       "  <tbody>\n",
       "    <tr>\n",
       "      <th>0</th>\n",
       "      <td>https://marshall.craigslist.org/cto/d/2010-dod...</td>\n",
       "      <td>marshall</td>\n",
       "      <td>11900</td>\n",
       "      <td>2010.0</td>\n",
       "      <td>dodge</td>\n",
       "      <td>challenger se</td>\n",
       "      <td>good</td>\n",
       "      <td>6 cylinders</td>\n",
       "      <td>gas</td>\n",
       "      <td>43600.0</td>\n",
       "      <td>...</td>\n",
       "      <td>red</td>\n",
       "      <td>https://images.craigslist.org/00i0i_2ggH1eKDNK...</td>\n",
       "      <td>43.4775</td>\n",
       "      <td>-96.7041</td>\n",
       "      <td>46083.0</td>\n",
       "      <td>Lincoln</td>\n",
       "      <td>46.0</td>\n",
       "      <td>SD</td>\n",
       "      <td>South Dakota</td>\n",
       "      <td>38.0</td>\n",
       "    </tr>\n",
       "    <tr>\n",
       "      <th>1</th>\n",
       "      <td>https://marshall.craigslist.org/cto/d/fleetwoo...</td>\n",
       "      <td>marshall</td>\n",
       "      <td>1515</td>\n",
       "      <td>1999.0</td>\n",
       "      <td>ford</td>\n",
       "      <td>fleetwood</td>\n",
       "      <td>excellent</td>\n",
       "      <td>6 cylinders</td>\n",
       "      <td>gas</td>\n",
       "      <td>107000.0</td>\n",
       "      <td>...</td>\n",
       "      <td>white</td>\n",
       "      <td>https://images.craigslist.org/00M0M_irjh7SjEcU...</td>\n",
       "      <td>44.7612</td>\n",
       "      <td>-96.6907</td>\n",
       "      <td>46039.0</td>\n",
       "      <td>Deuel</td>\n",
       "      <td>46.0</td>\n",
       "      <td>SD</td>\n",
       "      <td>South Dakota</td>\n",
       "      <td>38.0</td>\n",
       "    </tr>\n",
       "    <tr>\n",
       "      <th>2</th>\n",
       "      <td>https://marshall.craigslist.org/cto/d/2008-for...</td>\n",
       "      <td>marshall</td>\n",
       "      <td>17550</td>\n",
       "      <td>2008.0</td>\n",
       "      <td>ford</td>\n",
       "      <td>f-150</td>\n",
       "      <td>excellent</td>\n",
       "      <td>6 cylinders</td>\n",
       "      <td>gas</td>\n",
       "      <td>107000.0</td>\n",
       "      <td>...</td>\n",
       "      <td>white</td>\n",
       "      <td>https://images.craigslist.org/00s0s_eL2XFhEUcx...</td>\n",
       "      <td>44.1415</td>\n",
       "      <td>-103.2052</td>\n",
       "      <td>46093.0</td>\n",
       "      <td>Meade</td>\n",
       "      <td>46.0</td>\n",
       "      <td>SD</td>\n",
       "      <td>South Dakota</td>\n",
       "      <td>38.0</td>\n",
       "    </tr>\n",
       "    <tr>\n",
       "      <th>3</th>\n",
       "      <td>https://marshall.craigslist.org/cto/d/ford-tau...</td>\n",
       "      <td>marshall</td>\n",
       "      <td>2800</td>\n",
       "      <td>2004.0</td>\n",
       "      <td>ford</td>\n",
       "      <td>taurus</td>\n",
       "      <td>good</td>\n",
       "      <td>6 cylinders</td>\n",
       "      <td>gas</td>\n",
       "      <td>168591.0</td>\n",
       "      <td>...</td>\n",
       "      <td>grey</td>\n",
       "      <td>https://images.craigslist.org/00L0L_5HUR1nQjt8...</td>\n",
       "      <td>43.2845</td>\n",
       "      <td>-95.5930</td>\n",
       "      <td>19143.0</td>\n",
       "      <td>Osceola</td>\n",
       "      <td>19.0</td>\n",
       "      <td>IA</td>\n",
       "      <td>Iowa</td>\n",
       "      <td>47.0</td>\n",
       "    </tr>\n",
       "    <tr>\n",
       "      <th>4</th>\n",
       "      <td>https://marshall.craigslist.org/cto/d/2001-gra...</td>\n",
       "      <td>marshall</td>\n",
       "      <td>400</td>\n",
       "      <td>2001.0</td>\n",
       "      <td>ford</td>\n",
       "      <td>2001 Grand Prix</td>\n",
       "      <td>excellent</td>\n",
       "      <td>6 cylinders</td>\n",
       "      <td>gas</td>\n",
       "      <td>217000.0</td>\n",
       "      <td>...</td>\n",
       "      <td>white</td>\n",
       "      <td>https://images.craigslist.org/00n0n_bJJ1XnonSG...</td>\n",
       "      <td>43.0261</td>\n",
       "      <td>-94.4064</td>\n",
       "      <td>19109.0</td>\n",
       "      <td>Kossuth</td>\n",
       "      <td>19.0</td>\n",
       "      <td>IA</td>\n",
       "      <td>Iowa</td>\n",
       "      <td>47.0</td>\n",
       "    </tr>\n",
       "  </tbody>\n",
       "</table>\n",
       "<p>5 rows × 24 columns</p>\n",
       "</div>"
      ],
      "text/plain": [
       "                                                 url      city  price    year  \\\n",
       "0  https://marshall.craigslist.org/cto/d/2010-dod...  marshall  11900  2010.0   \n",
       "1  https://marshall.craigslist.org/cto/d/fleetwoo...  marshall   1515  1999.0   \n",
       "2  https://marshall.craigslist.org/cto/d/2008-for...  marshall  17550  2008.0   \n",
       "3  https://marshall.craigslist.org/cto/d/ford-tau...  marshall   2800  2004.0   \n",
       "4  https://marshall.craigslist.org/cto/d/2001-gra...  marshall    400  2001.0   \n",
       "\n",
       "  manufacturer             make  condition    cylinders fuel  odometer  \\\n",
       "0        dodge    challenger se       good  6 cylinders  gas   43600.0   \n",
       "1         ford        fleetwood  excellent  6 cylinders  gas  107000.0   \n",
       "2         ford            f-150  excellent  6 cylinders  gas  107000.0   \n",
       "3         ford           taurus       good  6 cylinders  gas  168591.0   \n",
       "4         ford  2001 Grand Prix  excellent  6 cylinders  gas  217000.0   \n",
       "\n",
       "    ...   paint_color                                          image_url  \\\n",
       "0   ...           red  https://images.craigslist.org/00i0i_2ggH1eKDNK...   \n",
       "1   ...         white  https://images.craigslist.org/00M0M_irjh7SjEcU...   \n",
       "2   ...         white  https://images.craigslist.org/00s0s_eL2XFhEUcx...   \n",
       "3   ...          grey  https://images.craigslist.org/00L0L_5HUR1nQjt8...   \n",
       "4   ...         white  https://images.craigslist.org/00n0n_bJJ1XnonSG...   \n",
       "\n",
       "       lat      long county_fips county_name  state_fips  state_code  \\\n",
       "0  43.4775  -96.7041     46083.0     Lincoln        46.0          SD   \n",
       "1  44.7612  -96.6907     46039.0       Deuel        46.0          SD   \n",
       "2  44.1415 -103.2052     46093.0       Meade        46.0          SD   \n",
       "3  43.2845  -95.5930     19143.0     Osceola        19.0          IA   \n",
       "4  43.0261  -94.4064     19109.0     Kossuth        19.0          IA   \n",
       "\n",
       "     state_name weather  \n",
       "0  South Dakota    38.0  \n",
       "1  South Dakota    38.0  \n",
       "2  South Dakota    38.0  \n",
       "3          Iowa    47.0  \n",
       "4          Iowa    47.0  \n",
       "\n",
       "[5 rows x 24 columns]"
      ]
     },
     "execution_count": 12,
     "metadata": {},
     "output_type": "execute_result"
    }
   ],
   "source": [
    "df.head()"
   ]
  },
  {
   "cell_type": "markdown",
   "metadata": {},
   "source": [
    "### Drop columns\n",
    "Pada analisis kali ini county_fips,state_fips,url,image_url akan dihapus <br>\n",
    "Kolom state_name juga akan dihapus karena arti dari entrynya sudah dijelaskan pada kolom state_code"
   ]
  },
  {
   "cell_type": "code",
   "execution_count": 13,
   "metadata": {},
   "outputs": [],
   "source": [
    "df2=df.drop(['county_fips','state_fips','state_name'],axis=1)"
   ]
  },
  {
   "cell_type": "code",
   "execution_count": 14,
   "metadata": {},
   "outputs": [],
   "source": [
    "df2.drop(['url','image_url'],inplace=True,axis=1)"
   ]
  },
  {
   "cell_type": "code",
   "execution_count": 15,
   "metadata": {},
   "outputs": [
    {
     "data": {
      "text/html": [
       "<div>\n",
       "<style scoped>\n",
       "    .dataframe tbody tr th:only-of-type {\n",
       "        vertical-align: middle;\n",
       "    }\n",
       "\n",
       "    .dataframe tbody tr th {\n",
       "        vertical-align: top;\n",
       "    }\n",
       "\n",
       "    .dataframe thead th {\n",
       "        text-align: right;\n",
       "    }\n",
       "</style>\n",
       "<table border=\"1\" class=\"dataframe\">\n",
       "  <thead>\n",
       "    <tr style=\"text-align: right;\">\n",
       "      <th></th>\n",
       "      <th>city</th>\n",
       "      <th>price</th>\n",
       "      <th>year</th>\n",
       "      <th>manufacturer</th>\n",
       "      <th>make</th>\n",
       "      <th>condition</th>\n",
       "      <th>cylinders</th>\n",
       "      <th>fuel</th>\n",
       "      <th>odometer</th>\n",
       "      <th>title_status</th>\n",
       "      <th>transmission</th>\n",
       "      <th>drive</th>\n",
       "      <th>type</th>\n",
       "      <th>paint_color</th>\n",
       "      <th>lat</th>\n",
       "      <th>long</th>\n",
       "      <th>county_name</th>\n",
       "      <th>state_code</th>\n",
       "      <th>weather</th>\n",
       "    </tr>\n",
       "  </thead>\n",
       "  <tbody>\n",
       "    <tr>\n",
       "      <th>0</th>\n",
       "      <td>marshall</td>\n",
       "      <td>11900</td>\n",
       "      <td>2010.0</td>\n",
       "      <td>dodge</td>\n",
       "      <td>challenger se</td>\n",
       "      <td>good</td>\n",
       "      <td>6 cylinders</td>\n",
       "      <td>gas</td>\n",
       "      <td>43600.0</td>\n",
       "      <td>clean</td>\n",
       "      <td>automatic</td>\n",
       "      <td>rwd</td>\n",
       "      <td>coupe</td>\n",
       "      <td>red</td>\n",
       "      <td>43.4775</td>\n",
       "      <td>-96.7041</td>\n",
       "      <td>Lincoln</td>\n",
       "      <td>SD</td>\n",
       "      <td>38.0</td>\n",
       "    </tr>\n",
       "    <tr>\n",
       "      <th>1</th>\n",
       "      <td>marshall</td>\n",
       "      <td>1515</td>\n",
       "      <td>1999.0</td>\n",
       "      <td>ford</td>\n",
       "      <td>fleetwood</td>\n",
       "      <td>excellent</td>\n",
       "      <td>6 cylinders</td>\n",
       "      <td>gas</td>\n",
       "      <td>107000.0</td>\n",
       "      <td>clean</td>\n",
       "      <td>other</td>\n",
       "      <td>4wd</td>\n",
       "      <td>sedan</td>\n",
       "      <td>white</td>\n",
       "      <td>44.7612</td>\n",
       "      <td>-96.6907</td>\n",
       "      <td>Deuel</td>\n",
       "      <td>SD</td>\n",
       "      <td>38.0</td>\n",
       "    </tr>\n",
       "    <tr>\n",
       "      <th>2</th>\n",
       "      <td>marshall</td>\n",
       "      <td>17550</td>\n",
       "      <td>2008.0</td>\n",
       "      <td>ford</td>\n",
       "      <td>f-150</td>\n",
       "      <td>excellent</td>\n",
       "      <td>6 cylinders</td>\n",
       "      <td>gas</td>\n",
       "      <td>107000.0</td>\n",
       "      <td>clean</td>\n",
       "      <td>automatic</td>\n",
       "      <td>4wd</td>\n",
       "      <td>sedan</td>\n",
       "      <td>white</td>\n",
       "      <td>44.1415</td>\n",
       "      <td>-103.2052</td>\n",
       "      <td>Meade</td>\n",
       "      <td>SD</td>\n",
       "      <td>38.0</td>\n",
       "    </tr>\n",
       "    <tr>\n",
       "      <th>3</th>\n",
       "      <td>marshall</td>\n",
       "      <td>2800</td>\n",
       "      <td>2004.0</td>\n",
       "      <td>ford</td>\n",
       "      <td>taurus</td>\n",
       "      <td>good</td>\n",
       "      <td>6 cylinders</td>\n",
       "      <td>gas</td>\n",
       "      <td>168591.0</td>\n",
       "      <td>clean</td>\n",
       "      <td>automatic</td>\n",
       "      <td>fwd</td>\n",
       "      <td>sedan</td>\n",
       "      <td>grey</td>\n",
       "      <td>43.2845</td>\n",
       "      <td>-95.5930</td>\n",
       "      <td>Osceola</td>\n",
       "      <td>IA</td>\n",
       "      <td>47.0</td>\n",
       "    </tr>\n",
       "    <tr>\n",
       "      <th>4</th>\n",
       "      <td>marshall</td>\n",
       "      <td>400</td>\n",
       "      <td>2001.0</td>\n",
       "      <td>ford</td>\n",
       "      <td>2001 Grand Prix</td>\n",
       "      <td>excellent</td>\n",
       "      <td>6 cylinders</td>\n",
       "      <td>gas</td>\n",
       "      <td>217000.0</td>\n",
       "      <td>clean</td>\n",
       "      <td>automatic</td>\n",
       "      <td>4wd</td>\n",
       "      <td>sedan</td>\n",
       "      <td>white</td>\n",
       "      <td>43.0261</td>\n",
       "      <td>-94.4064</td>\n",
       "      <td>Kossuth</td>\n",
       "      <td>IA</td>\n",
       "      <td>47.0</td>\n",
       "    </tr>\n",
       "  </tbody>\n",
       "</table>\n",
       "</div>"
      ],
      "text/plain": [
       "       city  price    year manufacturer             make  condition  \\\n",
       "0  marshall  11900  2010.0        dodge    challenger se       good   \n",
       "1  marshall   1515  1999.0         ford        fleetwood  excellent   \n",
       "2  marshall  17550  2008.0         ford            f-150  excellent   \n",
       "3  marshall   2800  2004.0         ford           taurus       good   \n",
       "4  marshall    400  2001.0         ford  2001 Grand Prix  excellent   \n",
       "\n",
       "     cylinders fuel  odometer title_status transmission drive   type  \\\n",
       "0  6 cylinders  gas   43600.0        clean    automatic   rwd  coupe   \n",
       "1  6 cylinders  gas  107000.0        clean        other   4wd  sedan   \n",
       "2  6 cylinders  gas  107000.0        clean    automatic   4wd  sedan   \n",
       "3  6 cylinders  gas  168591.0        clean    automatic   fwd  sedan   \n",
       "4  6 cylinders  gas  217000.0        clean    automatic   4wd  sedan   \n",
       "\n",
       "  paint_color      lat      long county_name state_code  weather  \n",
       "0         red  43.4775  -96.7041     Lincoln         SD     38.0  \n",
       "1       white  44.7612  -96.6907       Deuel         SD     38.0  \n",
       "2       white  44.1415 -103.2052       Meade         SD     38.0  \n",
       "3        grey  43.2845  -95.5930     Osceola         IA     47.0  \n",
       "4       white  43.0261  -94.4064     Kossuth         IA     47.0  "
      ]
     },
     "execution_count": 15,
     "metadata": {},
     "output_type": "execute_result"
    }
   ],
   "source": [
    "df2.head()"
   ]
  },
  {
   "cell_type": "code",
   "execution_count": 16,
   "metadata": {},
   "outputs": [
    {
     "name": "stdout",
     "output_type": "stream",
     "text": [
      "<class 'pandas.core.frame.DataFrame'>\n",
      "RangeIndex: 1723065 entries, 0 to 1723064\n",
      "Data columns (total 19 columns):\n",
      "city            object\n",
      "price           int64\n",
      "year            float64\n",
      "manufacturer    object\n",
      "make            object\n",
      "condition       object\n",
      "cylinders       object\n",
      "fuel            object\n",
      "odometer        float64\n",
      "title_status    object\n",
      "transmission    object\n",
      "drive           object\n",
      "type            object\n",
      "paint_color     object\n",
      "lat             float64\n",
      "long            float64\n",
      "county_name     object\n",
      "state_code      object\n",
      "weather         float64\n",
      "dtypes: float64(5), int64(1), object(13)\n",
      "memory usage: 249.8+ MB\n"
     ]
    }
   ],
   "source": [
    "df2.info()"
   ]
  },
  {
   "cell_type": "markdown",
   "metadata": {},
   "source": [
    "# Analisis Numeric"
   ]
  },
  {
   "cell_type": "code",
   "execution_count": 17,
   "metadata": {},
   "outputs": [],
   "source": [
    "#Membagi dataframe baru menjadi kategorikal dan numerik\n",
    "numeric=['price','year','odometer','lat','long','weather']\n",
    "df_kat=df2.drop(df[numeric],axis=1)\n",
    "df_num=df2[numeric]\n"
   ]
  },
  {
   "cell_type": "markdown",
   "metadata": {},
   "source": [
    "### Pada EDA ini akan difokuskan terhadap pengaruh variabel lain terhadap variabel 'price'\n",
    "Akan dilihat distrubisi dari 'price'"
   ]
  },
  {
   "cell_type": "code",
   "execution_count": 18,
   "metadata": {},
   "outputs": [
    {
     "data": {
      "text/plain": [
       "count    1.723065e+06\n",
       "mean     1.075540e+05\n",
       "std      1.004439e+07\n",
       "min      1.000000e+00\n",
       "25%      3.295000e+03\n",
       "50%      7.000000e+03\n",
       "75%      1.499900e+04\n",
       "max      2.068627e+09\n",
       "Name: price, dtype: float64"
      ]
     },
     "execution_count": 18,
     "metadata": {},
     "output_type": "execute_result"
    }
   ],
   "source": [
    "df_num['price'].describe()"
   ]
  },
  {
   "cell_type": "markdown",
   "metadata": {},
   "source": [
    "pada distribusi 'price' data terlihat sangat bervariasi jika dilihat dari  Q3 di 140000 dollar dan nilai maksimumnya di 2 milyar dollar"
   ]
  },
  {
   "cell_type": "code",
   "execution_count": 19,
   "metadata": {},
   "outputs": [
    {
     "data": {
      "text/plain": [
       "<matplotlib.axes._subplots.AxesSubplot at 0x2a609651588>"
      ]
     },
     "execution_count": 19,
     "metadata": {},
     "output_type": "execute_result"
    },
    {
     "data": {
      "image/png": "[encoded data removed]",
      "text/plain": [
       "<matplotlib.figure.Figure at 0x2a609650cf8>"
      ]
     },
     "metadata": {},
     "output_type": "display_data"
    }
   ],
   "source": [
    "sns.boxplot(df_num['price'])"
   ]
  },
  {
   "cell_type": "markdown",
   "metadata": {},
   "source": [
    "Jika dilihat dari boxplotnya juga memang ada harga 'price'  yang sangat tinggi membuat scale pada boxplot menjadi 'buruk'\n",
    "sehingga tidak bisa dibaca <br>\n",
    "Oleh karena itu akan difokuskan anilisis kali ini pada 'price' dengan harga yang dibawah nilai Q3 yaitu berkisar dibawah $140000"
   ]
  },
  {
   "cell_type": "code",
   "execution_count": 20,
   "metadata": {},
   "outputs": [
    {
     "data": {
      "text/plain": [
       "<matplotlib.axes._subplots.AxesSubplot at 0x2a60945a400>"
      ]
     },
     "execution_count": 20,
     "metadata": {},
     "output_type": "execute_result"
    },
    {
     "data": {
      "image/png": "[encoded data removed]",
      "text/plain": [
       "<matplotlib.figure.Figure at 0x2a609454710>"
      ]
     },
     "metadata": {},
     "output_type": "display_data"
    }
   ],
   "source": [
    "#dataset baru dengan harga price dibawah $140000\n",
    "df_cheap=df2[df2.price<=140000]\n",
    "sns.distplot(df_cheap['price'],kde=True,bins=30)"
   ]
  },
  {
   "cell_type": "markdown",
   "metadata": {},
   "source": [
    "Untuk distribusi 'price' bisa dilihat bahwa mobil banyak yang hargganya berkisar di 0-30000 dollar <br>\n",
    "dan distribusi data 'price' ialah skewness positif serta memang terdapat outlier di harga di atas $140000"
   ]
  },
  {
   "cell_type": "code",
   "execution_count": 22,
   "metadata": {},
   "outputs": [],
   "source": [
    "#Membagi dataset df_cheap menjadi numeric dan kategorikal\n",
    "numeric=['price','year','odometer','lat','long','weather']\n",
    "df_cheap_kat=df_cheap.drop(df_cheap[numeric],axis=1) #variabel dataset untuk kategorikal\n",
    "df_cheap_num=df_cheap[numeric] #variabel dataset untuk numeric"
   ]
  },
  {
   "cell_type": "code",
   "execution_count": 23,
   "metadata": {},
   "outputs": [
    {
     "data": {
      "text/plain": [
       "array([[<matplotlib.axes._subplots.AxesSubplot object at 0x000002A609482E10>,\n",
       "        <matplotlib.axes._subplots.AxesSubplot object at 0x000002A609B90278>],\n",
       "       [<matplotlib.axes._subplots.AxesSubplot object at 0x000002A609BC7198>,\n",
       "        <matplotlib.axes._subplots.AxesSubplot object at 0x000002A609C01278>],\n",
       "       [<matplotlib.axes._subplots.AxesSubplot object at 0x000002A609C3A278>,\n",
       "        <matplotlib.axes._subplots.AxesSubplot object at 0x000002A609C3A2B0>]],\n",
       "      dtype=object)"
      ]
     },
     "execution_count": 23,
     "metadata": {},
     "output_type": "execute_result"
    },
    {
     "data": {
      "image/png": "[encoded data removed]",
      "text/plain": [
       "<matplotlib.figure.Figure at 0x2a60944ec18>"
      ]
     },
     "metadata": {},
     "output_type": "display_data"
    }
   ],
   "source": [
    "#Sekarang akan dilihat distribusi dari variabel lainnya\n",
    "df_cheap_num.hist(figsize=(16, 20), bins=50, xlabelsize=8, ylabelsize=8)"
   ]
  },
  {
   "cell_type": "markdown",
   "metadata": {},
   "source": [
    "Ternyata pada tabel 'odometer' dan 'year' terlihat bahwa terdapat beberapa data yang jauh jika dibandingan dengan lainnya <br>\n",
    "lebih lanjut akan di dilihat pada statistika deskriptifnya"
   ]
  },
  {
   "cell_type": "code",
   "execution_count": 24,
   "metadata": {},
   "outputs": [
    {
     "data": {
      "text/html": [
       "<div>\n",
       "<style scoped>\n",
       "    .dataframe tbody tr th:only-of-type {\n",
       "        vertical-align: middle;\n",
       "    }\n",
       "\n",
       "    .dataframe tbody tr th {\n",
       "        vertical-align: top;\n",
       "    }\n",
       "\n",
       "    .dataframe thead th {\n",
       "        text-align: right;\n",
       "    }\n",
       "</style>\n",
       "<table border=\"1\" class=\"dataframe\">\n",
       "  <thead>\n",
       "    <tr style=\"text-align: right;\">\n",
       "      <th></th>\n",
       "      <th>price</th>\n",
       "      <th>year</th>\n",
       "      <th>odometer</th>\n",
       "      <th>lat</th>\n",
       "      <th>long</th>\n",
       "      <th>weather</th>\n",
       "    </tr>\n",
       "  </thead>\n",
       "  <tbody>\n",
       "    <tr>\n",
       "      <th>count</th>\n",
       "      <td>1.721611e+06</td>\n",
       "      <td>1.721611e+06</td>\n",
       "      <td>1.721611e+06</td>\n",
       "      <td>1.721611e+06</td>\n",
       "      <td>1.721611e+06</td>\n",
       "      <td>1.721611e+06</td>\n",
       "    </tr>\n",
       "    <tr>\n",
       "      <th>mean</th>\n",
       "      <td>1.090219e+04</td>\n",
       "      <td>2.004853e+03</td>\n",
       "      <td>1.114781e+05</td>\n",
       "      <td>3.878272e+01</td>\n",
       "      <td>-9.371072e+01</td>\n",
       "      <td>5.375859e+01</td>\n",
       "    </tr>\n",
       "    <tr>\n",
       "      <th>std</th>\n",
       "      <td>1.128721e+04</td>\n",
       "      <td>1.205564e+01</td>\n",
       "      <td>1.122888e+05</td>\n",
       "      <td>5.975814e+00</td>\n",
       "      <td>1.696447e+01</td>\n",
       "      <td>7.665081e+00</td>\n",
       "    </tr>\n",
       "    <tr>\n",
       "      <th>min</th>\n",
       "      <td>1.000000e+00</td>\n",
       "      <td>3.020000e+02</td>\n",
       "      <td>0.000000e+00</td>\n",
       "      <td>-8.481005e+01</td>\n",
       "      <td>-1.000000e+03</td>\n",
       "      <td>2.900000e+01</td>\n",
       "    </tr>\n",
       "    <tr>\n",
       "      <th>25%</th>\n",
       "      <td>3.295000e+03</td>\n",
       "      <td>2.002000e+03</td>\n",
       "      <td>8.436200e+04</td>\n",
       "      <td>3.491900e+01</td>\n",
       "      <td>-1.057839e+02</td>\n",
       "      <td>4.800000e+01</td>\n",
       "    </tr>\n",
       "    <tr>\n",
       "      <th>50%</th>\n",
       "      <td>7.000000e+03</td>\n",
       "      <td>2.007000e+03</td>\n",
       "      <td>1.070000e+05</td>\n",
       "      <td>3.941083e+01</td>\n",
       "      <td>-8.824070e+01</td>\n",
       "      <td>5.300000e+01</td>\n",
       "    </tr>\n",
       "    <tr>\n",
       "      <th>75%</th>\n",
       "      <td>1.499500e+04</td>\n",
       "      <td>2.012000e+03</td>\n",
       "      <td>1.299760e+05</td>\n",
       "      <td>4.255504e+01</td>\n",
       "      <td>-8.102568e+01</td>\n",
       "      <td>5.900000e+01</td>\n",
       "    </tr>\n",
       "    <tr>\n",
       "      <th>max</th>\n",
       "      <td>1.400000e+05</td>\n",
       "      <td>2.019000e+03</td>\n",
       "      <td>1.000000e+07</td>\n",
       "      <td>9.000000e+01</td>\n",
       "      <td>1.397061e+02</td>\n",
       "      <td>7.900000e+01</td>\n",
       "    </tr>\n",
       "  </tbody>\n",
       "</table>\n",
       "</div>"
      ],
      "text/plain": [
       "              price          year      odometer           lat          long  \\\n",
       "count  1.721611e+06  1.721611e+06  1.721611e+06  1.721611e+06  1.721611e+06   \n",
       "mean   1.090219e+04  2.004853e+03  1.114781e+05  3.878272e+01 -9.371072e+01   \n",
       "std    1.128721e+04  1.205564e+01  1.122888e+05  5.975814e+00  1.696447e+01   \n",
       "min    1.000000e+00  3.020000e+02  0.000000e+00 -8.481005e+01 -1.000000e+03   \n",
       "25%    3.295000e+03  2.002000e+03  8.436200e+04  3.491900e+01 -1.057839e+02   \n",
       "50%    7.000000e+03  2.007000e+03  1.070000e+05  3.941083e+01 -8.824070e+01   \n",
       "75%    1.499500e+04  2.012000e+03  1.299760e+05  4.255504e+01 -8.102568e+01   \n",
       "max    1.400000e+05  2.019000e+03  1.000000e+07  9.000000e+01  1.397061e+02   \n",
       "\n",
       "            weather  \n",
       "count  1.721611e+06  \n",
       "mean   5.375859e+01  \n",
       "std    7.665081e+00  \n",
       "min    2.900000e+01  \n",
       "25%    4.800000e+01  \n",
       "50%    5.300000e+01  \n",
       "75%    5.900000e+01  \n",
       "max    7.900000e+01  "
      ]
     },
     "execution_count": 24,
     "metadata": {},
     "output_type": "execute_result"
    }
   ],
   "source": [
    "df_cheap_num.describe()"
   ]
  },
  {
   "cell_type": "markdown",
   "metadata": {},
   "source": [
    "pada tabel 'year' ada tahun yang keluar di tahun 300an, hal ini tidak mungkin terjadi\n",
    "pada model ini 'year' akan dipilih dimana\n",
    "tahun keluarnya di atas 1900 <br>\n",
    "Sedangkan untuk odometer data banyak berdistribusi rentang 80000-120000 miles"
   ]
  },
  {
   "cell_type": "code",
   "execution_count": 35,
   "metadata": {},
   "outputs": [
    {
     "data": {
      "text/plain": [
       "2007.0    114389\n",
       "2008.0    103426\n",
       "2006.0    101295\n",
       "2015.0     94049\n",
       "2005.0     92275\n",
       "2004.0     83694\n",
       "2012.0     81103\n",
       "2011.0     80630\n",
       "2013.0     80365\n",
       "2014.0     77780\n",
       "2010.0     71791\n",
       "2003.0     71091\n",
       "2016.0     66464\n",
       "2009.0     64795\n",
       "2002.0     59851\n",
       "2017.0     58696\n",
       "2001.0     50765\n",
       "2000.0     43226\n",
       "1999.0     36459\n",
       "2018.0     26456\n",
       "1998.0     26419\n",
       "1997.0     23357\n",
       "1995.0     17078\n",
       "1996.0     16686\n",
       "1994.0     13062\n",
       "1993.0      9984\n",
       "1992.0      8259\n",
       "1991.0      7885\n",
       "1989.0      7490\n",
       "1990.0      7456\n",
       "           ...  \n",
       "1933.0       245\n",
       "1926.0       215\n",
       "1942.0       128\n",
       "1925.0       109\n",
       "1924.0        55\n",
       "1922.0        49\n",
       "1945.0        46\n",
       "1944.0        32\n",
       "1920.0        30\n",
       "1943.0        28\n",
       "1901.0        25\n",
       "1918.0        22\n",
       "1921.0        20\n",
       "1917.0        18\n",
       "1915.0        16\n",
       "1919.0        14\n",
       "1914.0        11\n",
       "1916.0         9\n",
       "1902.0         8\n",
       "1903.0         7\n",
       "1912.0         6\n",
       "1910.0         6\n",
       "1911.0         4\n",
       "1913.0         3\n",
       "1908.0         3\n",
       "1909.0         2\n",
       "1906.0         2\n",
       "1905.0         2\n",
       "1907.0         1\n",
       "1904.0         1\n",
       "Name: year, Length: 119, dtype: int64"
      ]
     },
     "execution_count": 35,
     "metadata": {},
     "output_type": "execute_result"
    }
   ],
   "source": [
    "#Memilih dataframe baru untuk mobil tahun keluaran di atas 1900\n",
    "df_cheap=df_cheap[df_cheap.year>1900]\n",
    "df_cheap_num=df_cheap[numeric]\n",
    "df_cheap_kat=df_cheap.drop(df_cheap_num[numeric],axis=1)\n"
   ]
  },
  {
   "cell_type": "markdown",
   "metadata": {},
   "source": [
    "## Selanjutnya akan dilihat bagaimana pengaruh variabel odometer dan year  terhadap 'price'\n",
    "### odometer vs price"
   ]
  },
  {
   "cell_type": "code",
   "execution_count": 27,
   "metadata": {},
   "outputs": [
    {
     "data": {
      "image/png": "[encoded data removed]",
      "text/plain": [
       "<matplotlib.figure.Figure at 0x2a60c805c88>"
      ]
     },
     "metadata": {},
     "output_type": "display_data"
    }
   ],
   "source": [
    "sns.jointplot(x='odometer',y='price',data=df_cheap_num)\n",
    "plt.show()"
   ]
  },
  {
   "cell_type": "markdown",
   "metadata": {},
   "source": [
    "Untuk odometer yang relatif tinggi lebih dari 50000 miles harga mobil tersebut lebih murah \n",
    "jika dibandingkan dengan yang odometernya rendah walaupun ada data yang odometernya diatas 50000 namun harganya juga tinggi \n",
    "yaitu diatas 50000 dollar\n",
    "pada umumnya mobil memiliki odometer dari 0-30000 miles"
   ]
  },
  {
   "cell_type": "markdown",
   "metadata": {},
   "source": [
    "### Year vs Price"
   ]
  },
  {
   "cell_type": "code",
   "execution_count": 28,
   "metadata": {},
   "outputs": [
    {
     "data": {
      "image/png": "[encoded data removed]",
      "text/plain": [
       "<matplotlib.figure.Figure at 0x2a652b64198>"
      ]
     },
     "metadata": {},
     "output_type": "display_data"
    }
   ],
   "source": [
    "\n",
    "sns.jointplot(x='year',y='price',data=df_cheap_num)\n",
    "plt.show()"
   ]
  },
  {
   "cell_type": "markdown",
   "metadata": {},
   "source": [
    "Untuk 'year', pada umumnya mobil keluaran tahun yang lebih tua memiliki harga yang relatif murah jika dibandingan mobil keluaran baru <br>\n",
    "Namun terdapat mobil keluaran tahun 1900an-1980an yang memiliki harga yang sangat tinggi bisa jadi merupakan mobil antik."
   ]
  },
  {
   "cell_type": "markdown",
   "metadata": {},
   "source": [
    "# create correlation\n"
   ]
  },
  {
   "cell_type": "code",
   "execution_count": 33,
   "metadata": {},
   "outputs": [
    {
     "data": {
      "text/plain": [
       "<matplotlib.axes._subplots.AxesSubplot at 0x2a677d94940>"
      ]
     },
     "execution_count": 33,
     "metadata": {},
     "output_type": "execute_result"
    },
    {
     "data": {
      "image/png": "[encoded data removed]",
      "text/plain": [
       "<matplotlib.figure.Figure at 0x2a677ff0cc0>"
      ]
     },
     "metadata": {},
     "output_type": "display_data"
    }
   ],
   "source": [
    "\n",
    "corr = df_cheap_num[['price','year','odometer']].corr(method = 'pearson')\n",
    "\n",
    "#convert correlation to numpy array\n",
    "mask = np.array(corr)\n",
    "\n",
    "#to mask the repetitive value for each pair\n",
    "mask[np.tril_indices_from(mask)] = False\n",
    "fig, ax = plt.subplots(figsize = (15,12))\n",
    "fig.set_size_inches(20,5)\n",
    "sns.heatmap(corr, mask = mask, vmax = 0.9, square = True, annot = True)"
   ]
  },
  {
   "cell_type": "markdown",
   "metadata": {},
   "source": [
    "Jika dilihat nilai korelasinnya 'year' vs price dan 'odometer' vs 'price' nilai korelasi kecil yaitu 0.27 dan -0.19 <br>\n",
    "Hal ini bertolak belakang dengan pernyataan sebelumnya namun hal ini tidak masalah karena korelasi menyatakan hubungan linear antar variabel <br>\n",
    "Bisa jadi bahwa antar variabel berhubungan namun tidak berhubungan linier"
   ]
  },
  {
   "cell_type": "markdown",
   "metadata": {},
   "source": [
    "# Analisis Kategorikal "
   ]
  },
  {
   "cell_type": "code",
   "execution_count": 36,
   "metadata": {},
   "outputs": [
    {
     "data": {
      "text/html": [
       "<div>\n",
       "<style scoped>\n",
       "    .dataframe tbody tr th:only-of-type {\n",
       "        vertical-align: middle;\n",
       "    }\n",
       "\n",
       "    .dataframe tbody tr th {\n",
       "        vertical-align: top;\n",
       "    }\n",
       "\n",
       "    .dataframe thead th {\n",
       "        text-align: right;\n",
       "    }\n",
       "</style>\n",
       "<table border=\"1\" class=\"dataframe\">\n",
       "  <thead>\n",
       "    <tr style=\"text-align: right;\">\n",
       "      <th></th>\n",
       "      <th>city</th>\n",
       "      <th>manufacturer</th>\n",
       "      <th>make</th>\n",
       "      <th>condition</th>\n",
       "      <th>cylinders</th>\n",
       "      <th>fuel</th>\n",
       "      <th>title_status</th>\n",
       "      <th>transmission</th>\n",
       "      <th>drive</th>\n",
       "      <th>type</th>\n",
       "      <th>paint_color</th>\n",
       "      <th>county_name</th>\n",
       "      <th>state_code</th>\n",
       "    </tr>\n",
       "  </thead>\n",
       "  <tbody>\n",
       "    <tr>\n",
       "      <th>0</th>\n",
       "      <td>marshall</td>\n",
       "      <td>dodge</td>\n",
       "      <td>challenger se</td>\n",
       "      <td>good</td>\n",
       "      <td>6 cylinders</td>\n",
       "      <td>gas</td>\n",
       "      <td>clean</td>\n",
       "      <td>automatic</td>\n",
       "      <td>rwd</td>\n",
       "      <td>coupe</td>\n",
       "      <td>red</td>\n",
       "      <td>Lincoln</td>\n",
       "      <td>SD</td>\n",
       "    </tr>\n",
       "    <tr>\n",
       "      <th>1</th>\n",
       "      <td>marshall</td>\n",
       "      <td>ford</td>\n",
       "      <td>fleetwood</td>\n",
       "      <td>excellent</td>\n",
       "      <td>6 cylinders</td>\n",
       "      <td>gas</td>\n",
       "      <td>clean</td>\n",
       "      <td>other</td>\n",
       "      <td>4wd</td>\n",
       "      <td>sedan</td>\n",
       "      <td>white</td>\n",
       "      <td>Deuel</td>\n",
       "      <td>SD</td>\n",
       "    </tr>\n",
       "    <tr>\n",
       "      <th>2</th>\n",
       "      <td>marshall</td>\n",
       "      <td>ford</td>\n",
       "      <td>f-150</td>\n",
       "      <td>excellent</td>\n",
       "      <td>6 cylinders</td>\n",
       "      <td>gas</td>\n",
       "      <td>clean</td>\n",
       "      <td>automatic</td>\n",
       "      <td>4wd</td>\n",
       "      <td>sedan</td>\n",
       "      <td>white</td>\n",
       "      <td>Meade</td>\n",
       "      <td>SD</td>\n",
       "    </tr>\n",
       "    <tr>\n",
       "      <th>3</th>\n",
       "      <td>marshall</td>\n",
       "      <td>ford</td>\n",
       "      <td>taurus</td>\n",
       "      <td>good</td>\n",
       "      <td>6 cylinders</td>\n",
       "      <td>gas</td>\n",
       "      <td>clean</td>\n",
       "      <td>automatic</td>\n",
       "      <td>fwd</td>\n",
       "      <td>sedan</td>\n",
       "      <td>grey</td>\n",
       "      <td>Osceola</td>\n",
       "      <td>IA</td>\n",
       "    </tr>\n",
       "    <tr>\n",
       "      <th>4</th>\n",
       "      <td>marshall</td>\n",
       "      <td>ford</td>\n",
       "      <td>2001 Grand Prix</td>\n",
       "      <td>excellent</td>\n",
       "      <td>6 cylinders</td>\n",
       "      <td>gas</td>\n",
       "      <td>clean</td>\n",
       "      <td>automatic</td>\n",
       "      <td>4wd</td>\n",
       "      <td>sedan</td>\n",
       "      <td>white</td>\n",
       "      <td>Kossuth</td>\n",
       "      <td>IA</td>\n",
       "    </tr>\n",
       "  </tbody>\n",
       "</table>\n",
       "</div>"
      ],
      "text/plain": [
       "       city manufacturer             make  condition    cylinders fuel  \\\n",
       "0  marshall        dodge    challenger se       good  6 cylinders  gas   \n",
       "1  marshall         ford        fleetwood  excellent  6 cylinders  gas   \n",
       "2  marshall         ford            f-150  excellent  6 cylinders  gas   \n",
       "3  marshall         ford           taurus       good  6 cylinders  gas   \n",
       "4  marshall         ford  2001 Grand Prix  excellent  6 cylinders  gas   \n",
       "\n",
       "  title_status transmission drive   type paint_color county_name state_code  \n",
       "0        clean    automatic   rwd  coupe         red     Lincoln         SD  \n",
       "1        clean        other   4wd  sedan       white       Deuel         SD  \n",
       "2        clean    automatic   4wd  sedan       white       Meade         SD  \n",
       "3        clean    automatic   fwd  sedan        grey     Osceola         IA  \n",
       "4        clean    automatic   4wd  sedan       white     Kossuth         IA  "
      ]
     },
     "execution_count": 36,
     "metadata": {},
     "output_type": "execute_result"
    }
   ],
   "source": [
    "df_cheap_kat.head()"
   ]
  },
  {
   "cell_type": "markdown",
   "metadata": {},
   "source": [
    "### Condition, Fuel Vs Price\n",
    "Akan dilihat distribusi dari kondisi mobil terhadap harga dan akan dilihat jenis bahan bakarnya <br>\n",
    "untuk setiap kondisi"
   ]
  },
  {
   "cell_type": "code",
   "execution_count": 96,
   "metadata": {},
   "outputs": [
    {
     "data": {
      "text/plain": [
       "<matplotlib.axes._subplots.AxesSubplot at 0x2a67d5d0748>"
      ]
     },
     "execution_count": 96,
     "metadata": {},
     "output_type": "execute_result"
    },
    {
     "data": {
      "image/png": "[encoded data removed]",
      "text/plain": [
       "<matplotlib.figure.Figure at 0x2a67d5d0780>"
      ]
     },
     "metadata": {},
     "output_type": "display_data"
    }
   ],
   "source": [
    "plt.figure(figsize=(10,10))\n",
    "sns.boxplot(x='condition',y='price',data=df_cheap,hue='fuel')"
   ]
  },
  {
   "cell_type": "markdown",
   "metadata": {},
   "source": [
    "Pada boxplot ini dibandingkan 'condition' mobil dengan 'price' mobil serta dilihat jenis dari bahan bakarnya 'fuel'.<br>\n",
    "Secara distribusinya banyak mobil dengan kondisi 'new'  harganya lebih tinggi jika dibandingan dengan mobil bekas dengan\n",
    "kondisi lainnya dan memang terlihat kondisi 'fair' secara disitribusi memiliki harga yang relatif rendah. Namun terdapat hal menarik yaitu ternyata terdapat banyak mobil dengan kondisi 'fair,salvage atau good'  yang memiliki harga yang tinggi yaitu di atas $100000. Jika dilihat dari distribusi 'fuel' , terdapat banyak mobil jenis diesel yang memiliki harga yang tinggi di rentangnya pada masing-masing jenis 'condition'."
   ]
  },
  {
   "cell_type": "markdown",
   "metadata": {},
   "source": [
    "### Manufacturer vs Price\n",
    "Akan dilihat distribusi dari jenis manufacturer terhadap harga mobil. <br>\n",
    "Pada analisis ini hanya dilihat 5 manufacturer yang memiliki mobil terbanyak. <br>\n",
    "Untuk melihat distribusinya hanya harga dibawah $60000 saja dikarenakan agar hasil plotnya lebih jelas"
   ]
  },
  {
   "cell_type": "code",
   "execution_count": 74,
   "metadata": {},
   "outputs": [],
   "source": [
    "df_cheap.manufacturer.value_counts()\n",
    "top_5=df_cheap[(df_cheap.manufacturer=='ford') | (df_cheap.manufacturer=='chevrolet') | (df_cheap.manufacturer=='toyota')|\n",
    "              (df_cheap.manufacturer=='honda') | (df_cheap.manufacturer=='nissan') ]"
   ]
  },
  {
   "cell_type": "markdown",
   "metadata": {},
   "source": [
    "Masih cukup sulit untuk melihat distribusi data untuk setiap manufacturer apabila untuk harga kurang dari 140000 dollar sehingga akan dilihat untuk rentang harga kurang dari 60000 dollar"
   ]
  },
  {
   "cell_type": "code",
   "execution_count": 81,
   "metadata": {},
   "outputs": [
    {
     "data": {
      "text/plain": [
       "<matplotlib.axes._subplots.AxesSubplot at 0x2a677b9be10>"
      ]
     },
     "execution_count": 81,
     "metadata": {},
     "output_type": "execute_result"
    },
    {
     "data": {
      "image/png": "[encoded data removed]",
      "text/plain": [
       "<matplotlib.figure.Figure at 0x2a6780f1320>"
      ]
     },
     "metadata": {},
     "output_type": "display_data"
    }
   ],
   "source": [
    "top_5=top_5[top_5['price']<60000]\n",
    "sns.violinplot(x='manufacturer',y='price',data=top_5)"
   ]
  },
  {
   "cell_type": "markdown",
   "metadata": {},
   "source": [
    "Terlihat dari hasil plot distribusi rentang harga mobil dari ke 5 manufacturer relatif sama <br>\n",
    "paling banyak direntang $0-15000"
   ]
  },
  {
   "cell_type": "code",
   "execution_count": 114,
   "metadata": {},
   "outputs": [
    {
     "data": {
      "text/plain": [
       "Text(0,0.5,'Average Price')"
      ]
     },
     "execution_count": 114,
     "metadata": {},
     "output_type": "execute_result"
    },
    {
     "data": {
      "image/png": "[encoded data removed]",
      "text/plain": [
       "<matplotlib.figure.Figure at 0x2a690a899e8>"
      ]
     },
     "metadata": {},
     "output_type": "display_data"
    }
   ],
   "source": [
    "price=top_5.groupby('manufacturer').mean().sort_values(by='price',ascending=False).reset_index()\n",
    "sns.barplot(x='manufacturer',y='price',data=price)\n",
    "plt.ylabel('Average Price')"
   ]
  },
  {
   "cell_type": "markdown",
   "metadata": {},
   "source": [
    "Urutan rata-rata harga mobil bekas dari yang tertinggi yaitu berasal dari manufacturer <br>\n",
    "chevrolet,ford,toyota,nissan,honda untuk mobil dengan rentang harga $0-60000"
   ]
  },
  {
   "cell_type": "markdown",
   "metadata": {},
   "source": [
    "### Cylinders vs Price\n",
    "Akan dilihat rataan harga mobil berdasarkan jenis cylinders mobil tersebut"
   ]
  },
  {
   "cell_type": "code",
   "execution_count": 115,
   "metadata": {},
   "outputs": [
    {
     "data": {
      "text/plain": [
       "Text(0,0.5,'Average Price')"
      ]
     },
     "execution_count": 115,
     "metadata": {},
     "output_type": "execute_result"
    },
    {
     "data": {
      "image/png": "[encoded data removed]",
      "text/plain": [
       "<matplotlib.figure.Figure at 0x2a690aa1898>"
      ]
     },
     "metadata": {},
     "output_type": "display_data"
    }
   ],
   "source": [
    "plt.figure(figsize=(10,10))\n",
    "price=df_cheap.groupby('cylinders').mean().sort_values('price',ascending=False).reset_index()\n",
    "sns.barplot(x='cylinders',y='price',data=price[price.price<=60000])\n",
    "plt.ylabel('Average Price')\n"
   ]
  },
  {
   "cell_type": "markdown",
   "metadata": {},
   "source": [
    "Berdasarkan rataan harga untuk setiap jenis cylinders : <br>\n",
    "Diperoleh rataan harga dari yang tertinggi yaitu\n",
    "12 cylinders, other , 8 cylinders , 10 cylinders, 6 cylinders, 4 cylinders, 3 cylinders , 5 cylinders <br>\n",
    "dan rataan harga 10 cylinders mirip dengan rataan harga 6 cylinders"
   ]
  },
  {
   "cell_type": "markdown",
   "metadata": {},
   "source": [
    "### State_code vs Number of used vehicles for sale\n",
    "Akan dilihat jumlah mobil bekas yang dijual di setiap negaranya "
   ]
  },
  {
   "cell_type": "code",
   "execution_count": 122,
   "metadata": {},
   "outputs": [
    {
     "data": {
      "text/plain": [
       "Text(0,0.5,'Number of used vehicles for sale')"
      ]
     },
     "execution_count": 122,
     "metadata": {},
     "output_type": "execute_result"
    },
    {
     "data": {
      "image/png": "[encoded data removed]",
      "text/plain": [
       "<matplotlib.figure.Figure at 0x2a6906d65c0>"
      ]
     },
     "metadata": {},
     "output_type": "display_data"
    }
   ],
   "source": [
    "city=df_cheap.state_code.value_counts()\n",
    "city=pd.DataFrame(city).reset_index()\n",
    "\n",
    "plt.figure(figsize=(30,10))\n",
    "sns.barplot(x='index',y='state_code',data=city)\n",
    "plt.ylabel('Number of used vehicles for sale')"
   ]
  },
  {
   "cell_type": "markdown",
   "metadata": {},
   "source": [
    "Negara dengan state_code CA memiliki jumlah mobil bekas yang dijual paling banyak <br>\n",
    "kemudian diikuti dengan kode negara FL, TX dan seterusnya"
   ]
  },
  {
   "cell_type": "markdown",
   "metadata": {},
   "source": [
    "### State Code Vs Average Price\n",
    "Akan dilihat rataan harga mobil bekas untuk setiap negaranya"
   ]
  },
  {
   "cell_type": "code",
   "execution_count": null,
   "metadata": {},
   "outputs": [],
   "source": [
    "plt.figure(figsize=(10,10))\n",
    "city_price=df_cheap.groupby('state_code').mean().sort_values('price',ascending=False).reset_index()\n",
    "sns.barplot(x='state_code',y='price',data=price[price.price<=60000])\n",
    "plt.ylabel('Average Price')\n"
   ]
  },
  {
   "cell_type": "markdown",
   "metadata": {},
   "source": [
    "Berikut merupakan hasil rataan harga mobil bekas untuk setiap negaranya diurutkan dari rataan harga tertinggi"
   ]
  },
  {
   "cell_type": "code",
   "execution_count": null,
   "metadata": {},
   "outputs": [],
   "source": []
  }
 ],
 "metadata": {
  "kernelspec": {
   "display_name": "Python 3",
   "language": "python",
   "name": "python3"
  },
  "language_info": {
   "codemirror_mode": {
    "name": "ipython",
    "version": 3
   },
   "file_extension": ".py",
   "mimetype": "text/x-python",
   "name": "python",
   "nbconvert_exporter": "python",
   "pygments_lexer": "ipython3",
   "version": "3.6.4"
  }
 },
 "nbformat": 4,
 "nbformat_minor": 2
}
